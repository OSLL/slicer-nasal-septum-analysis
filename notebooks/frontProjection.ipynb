{
 "cells": [
  {
   "cell_type": "markdown",
   "metadata": {},
   "source": [
    "### Подключаем библиотеки"
   ]
  },
  {
   "cell_type": "code",
   "execution_count": 1,
   "metadata": {},
   "outputs": [],
   "source": [
    "from vtkmodules.vtkCommonColor import vtkNamedColors\n",
    "from vtkmodules.vtkFiltersSources import vtkSphereSource\n",
    "from vtkmodules.vtkIOImage import (\n",
    "    vtkBMPWriter,\n",
    "    vtkJPEGWriter,\n",
    "    vtkPNGWriter,\n",
    "    vtkPNMWriter,\n",
    "    vtkPostScriptWriter,\n",
    "    vtkTIFFWriter\n",
    ")\n",
    "from vtkmodules.vtkRenderingCore import (\n",
    "    vtkActor,\n",
    "    vtkPolyDataMapper,\n",
    "    vtkRenderWindow,\n",
    "    vtkRenderWindowInteractor,\n",
    "    vtkRenderer,\n",
    "    vtkWindowToImageFilter\n",
    ")\n",
    "\n",
    "from vtk import vtkPolyDataReader, vtkTransform, vtkPlane\n",
    "\n",
    "import os\n",
    "\n",
    "import cv2\n",
    "import numpy as np"
   ]
  },
  {
   "cell_type": "markdown",
   "metadata": {},
   "source": [
    "### Генерируем фронтальную проекцию vtk модели"
   ]
  },
  {
   "cell_type": "code",
   "execution_count": 2,
   "metadata": {},
   "outputs": [],
   "source": [
    "VTK_INPUT_FILE = os.path.join(\"assets\", \"input.vtk\")\n",
    "OUTPUT_FILE = os.path.join('output', 'frontProjection')"
   ]
  },
  {
   "cell_type": "code",
   "execution_count": 6,
   "metadata": {},
   "outputs": [],
   "source": [
    "def main():\n",
    "    colors = vtkNamedColors()\n",
    "\n",
    "    # Set the background color.\n",
    "    colors.SetColor('BkgColor', [0, 0, 0, 255])\n",
    "\n",
    "    reader = vtkPolyDataReader()\n",
    "    reader.SetFileName(VTK_INPUT_FILE)\n",
    "    reader.Update()\n",
    "\n",
    "    data = reader.GetOutput()\n",
    "\n",
    "    # create a rendering window and renderer\n",
    "    ren = vtkRenderer()\n",
    "    renWin = vtkRenderWindow()\n",
    "    renWin.ShowWindowOff()\n",
    "    renWin.AddRenderer(ren)\n",
    "    renWin.SetSize(1024, 1024)\n",
    "\n",
    "    # create a renderwindowinteractor\n",
    "    # iren = vtkRenderWindowInteractor()\n",
    "    # iren.SetRenderWindow(renWin)\n",
    "\n",
    "    # create source\n",
    "    source = vtkSphereSource()\n",
    "    source.SetCenter(0, 0, 0)\n",
    "    source.SetRadius(5.0)\n",
    "\n",
    "    # mapper\n",
    "    mapper = vtkPolyDataMapper()\n",
    "    mapper.SetInputData(data)\n",
    "\n",
    "    # actor\n",
    "    actor = vtkActor()\n",
    "    actor.SetMapper(mapper)\n",
    "\n",
    "    # color the actor\n",
    "    actor.GetProperty().SetColor(colors.GetColor3d('Yellow'))\n",
    "\n",
    "    # assign actor to the renderer\n",
    "    ren.AddActor(actor)\n",
    "    ren.SetBackground(colors.GetColor3d('BkgColor'))\n",
    "\n",
    "    center_x, center_y, center_z = actor.GetCenter()\n",
    "    w = vtkTransform()\n",
    "    w.Translate(-center_x, -center_y, -center_z)\n",
    "    # set up needed angle\n",
    "    # w.RotateY(180)\n",
    "    w.RotateX(-90)\n",
    "    actor.SetUserTransform(w)\n",
    "\n",
    "    renWin.SetWindowName('ImageWriter')\n",
    "    renWin.Render()\n",
    "\n",
    "    # ext = ['', '.png', '.jpg', '.ps', '.tiff', '.bmp', '.pnm']\n",
    "    ext = ['.png']\n",
    "    filenames = list(map(lambda x: OUTPUT_FILE + x, ext))\n",
    "    for f in filenames:\n",
    "        writeImage(f, renWin, rgba=False)\n",
    "\n",
    "\n",
    "def writeImage(fileName, renWin, rgba=True):\n",
    "    # Select the writer to use.\n",
    "    path, ext = os.path.splitext(fileName)\n",
    "    ext = ext.lower()\n",
    "    if not ext:\n",
    "        ext = '.png'\n",
    "        fileName = fileName + ext\n",
    "    if ext == '.bmp':\n",
    "        writer = vtkBMPWriter()\n",
    "    elif ext == '.jpg':\n",
    "        writer = vtkJPEGWriter()\n",
    "    elif ext == '.pnm':\n",
    "        writer = vtkPNMWriter()\n",
    "    elif ext == '.ps':\n",
    "        if rgba:\n",
    "            rgba = False\n",
    "        writer = vtkPostScriptWriter()\n",
    "    elif ext == '.tiff':\n",
    "        writer = vtkTIFFWriter()\n",
    "    else:\n",
    "        writer = vtkPNGWriter()\n",
    "\n",
    "    windowto_image_filter = vtkWindowToImageFilter()\n",
    "    windowto_image_filter.SetInput(renWin)\n",
    "    windowto_image_filter.SetScale(1)\n",
    "    if rgba:\n",
    "        windowto_image_filter.SetInputBufferTypeToRGBA()\n",
    "    else:\n",
    "        windowto_image_filter.SetInputBufferTypeToRGB()\n",
    "        windowto_image_filter.ReadFrontBufferOff()\n",
    "        windowto_image_filter.Update()\n",
    "\n",
    "    writer.SetFileName(fileName)\n",
    "    writer.SetInputConnection(windowto_image_filter.GetOutputPort())\n",
    "    writer.Write()\n",
    "\n",
    "\n",
    "main()"
   ]
  },
  {
   "cell_type": "markdown",
   "metadata": {},
   "source": [
    "### Генерируем контур вдоль носового отверстия"
   ]
  },
  {
   "cell_type": "code",
   "execution_count": 23,
   "metadata": {},
   "outputs": [],
   "source": [
    "CONTOUR_INPUT = os.path.join('output', 'frontProjection.png')\n",
    "CONTOUR_OUTPUT = os.path.join('output', 'contouredNose.png')"
   ]
  },
  {
   "cell_type": "code",
   "execution_count": 50,
   "metadata": {},
   "outputs": [
    {
     "data": {
      "text/plain": [
       "True"
      ]
     },
     "execution_count": 50,
     "metadata": {},
     "output_type": "execute_result"
    }
   ],
   "source": [
    "img = cv2.imread(CONTOUR_INPUT)\n",
    "\n",
    "gray = cv2.cvtColor(img, cv2.COLOR_BGR2GRAY)\n",
    "\n",
    "blur = cv2.medianBlur(gray, 27)\n",
    "\n",
    "cv2.imwrite(CONTOUR_OUTPUT, blur)\n",
    "ret, thresh = cv2.threshold(blur, 110, 255, cv2.THRESH_OTSU)\n",
    "\n",
    "canny = cv2.Canny(thresh, 100, 200)\n",
    "\n",
    "contours, hierarchy = cv2.findContours(canny, cv2.RETR_TREE, cv2.CHAIN_APPROX_NONE)\n",
    "\n",
    "contour_list = []\n",
    "for contour in contours:\n",
    "    approx = cv2.approxPolyDP(contour, 0.01 * cv2.arcLength(contour, True), True)\n",
    "    area = cv2.contourArea(contour)\n",
    "    contour_list.append(contour)\n",
    "\n",
    "# Biggest contour are outter\n",
    "contour = sorted(contour_list, key=lambda c: cv2.contourArea(c))[-3]\n",
    "\n",
    "cv2.drawContours(img, [contour], -1, (0, 255, 0), 2)\n",
    "\n",
    "cv2.imwrite(CONTOUR_OUTPUT, img)\n"
   ]
  }
 ],
 "metadata": {
  "kernelspec": {
   "display_name": "base",
   "language": "python",
   "name": "python3"
  },
  "language_info": {
   "codemirror_mode": {
    "name": "ipython",
    "version": 3
   },
   "file_extension": ".py",
   "mimetype": "text/x-python",
   "name": "python",
   "nbconvert_exporter": "python",
   "pygments_lexer": "ipython3",
   "version": "3.9.13"
  }
 },
 "nbformat": 4,
 "nbformat_minor": 2
}

{
 "cells": [
  {
   "cell_type": "markdown",
   "metadata": {},
   "source": [
    "### Imports"
   ]
  },
  {
   "cell_type": "code",
   "execution_count": 1,
   "metadata": {},
   "outputs": [
    {
     "ename": "ModuleNotFoundError",
     "evalue": "No module named 'nibabel'",
     "output_type": "error",
     "traceback": [
      "\u001b[0;31m---------------------------------------------------------------------------\u001b[0m",
      "\u001b[0;31mModuleNotFoundError\u001b[0m                       Traceback (most recent call last)",
      "Cell \u001b[0;32mIn [1], line 1\u001b[0m\n\u001b[0;32m----> 1\u001b[0m \u001b[38;5;28;01mimport\u001b[39;00m \u001b[38;5;21;01mnibabel\u001b[39;00m \u001b[38;5;28;01mas\u001b[39;00m \u001b[38;5;21;01mnib\u001b[39;00m\n\u001b[1;32m      2\u001b[0m \u001b[38;5;28;01mimport\u001b[39;00m \u001b[38;5;21;01mmatplotlib\u001b[39;00m\u001b[38;5;21;01m.\u001b[39;00m\u001b[38;5;21;01mpyplot\u001b[39;00m \u001b[38;5;28;01mas\u001b[39;00m \u001b[38;5;21;01mplt\u001b[39;00m\n\u001b[1;32m      3\u001b[0m \u001b[38;5;28;01mimport\u001b[39;00m \u001b[38;5;21;01mos\u001b[39;00m\n",
      "\u001b[0;31mModuleNotFoundError\u001b[0m: No module named 'nibabel'"
     ]
    }
   ],
   "source": [
    "import nibabel as nib\n",
    "import matplotlib.pyplot as plt\n",
    "import os\n",
    "import cv2\n",
    "import vtk\n",
    "import numpy as np"
   ]
  },
  {
   "cell_type": "markdown",
   "metadata": {},
   "source": [
    "### Set up constants"
   ]
  },
  {
   "cell_type": "code",
   "execution_count": null,
   "metadata": {},
   "outputs": [
    {
     "ename": "",
     "evalue": "",
     "output_type": "error",
     "traceback": [
      "\u001b[1;31mRunning cells with '/bin/python3' requires the ipykernel package.\n",
      "\u001b[1;31mRun the following command to install 'ipykernel' into the Python environment. \n",
      "\u001b[1;31mCommand: '/bin/python3 -m pip install ipykernel -U --user --force-reinstall'"
     ]
    }
   ],
   "source": [
    "CT_PATH_FILE = os.path.join(\"assets\", \"input.nii.gz\")\n",
    "MAXILLA_PATH_FILE = os.path.join(\"assets\", \"maxilla.nii.gz\")\n",
    "CT_SLICES_DIR = os.path.join(\"output\", \"slices\")\n",
    "MAXILLA_SLICES_DIR = os.path.join(\"output\", \"slices\")\n",
    "BLACK_BOUND = 130\n",
    "SLICE_FILE = os.path.join(\"output\", \"slices\", \"slice_163.png\")\n",
    "MAXILLA_FILE = os.path.join(\"output\", \"slices\",  \"slice_163_maxilla.png\")"
   ]
  },
  {
   "cell_type": "markdown",
   "metadata": {},
   "source": [
    "### Convert niigz file to set of png slices"
   ]
  },
  {
   "cell_type": "code",
   "execution_count": null,
   "metadata": {},
   "outputs": [
    {
     "ename": "",
     "evalue": "",
     "output_type": "error",
     "traceback": [
      "\u001b[1;31mRunning cells with '/bin/python3' requires the ipykernel package.\n",
      "\u001b[1;31mRun the following command to install 'ipykernel' into the Python environment. \n",
      "\u001b[1;31mCommand: '/bin/python3 -m pip install ipykernel -U --user --force-reinstall'"
     ]
    }
   ],
   "source": [
    "if not os.path.exists(CT_SLICES_DIR):\n",
    "  os.mkdir(CT_SLICES_DIR)"
   ]
  },
  {
   "cell_type": "code",
   "execution_count": null,
   "metadata": {},
   "outputs": [
    {
     "ename": "",
     "evalue": "",
     "output_type": "error",
     "traceback": [
      "\u001b[1;31mRunning cells with '/bin/python3' requires the ipykernel package.\n",
      "\u001b[1;31mRun the following command to install 'ipykernel' into the Python environment. \n",
      "\u001b[1;31mCommand: '/bin/python3 -m pip install ipykernel -U --user --force-reinstall'"
     ]
    }
   ],
   "source": [
    "def convert(nii_path0, output_dir0, suffix=\"\"):\n",
    "    nii_path = nii_path0\n",
    "\n",
    "    nii_img = nib.load(nii_path)\n",
    "\n",
    "    nii_data = nii_img.get_fdata()\n",
    "\n",
    "    output_dir = output_dir0\n",
    "    if not os.path.exists(output_dir):\n",
    "        os.makedirs(output_dir)\n",
    "\n",
    "    for i in range(nii_data.shape[2]):\n",
    "        plt.imshow(nii_data[:, :, i], cmap=\"gray\")\n",
    "        plt.axis(\"off\")\n",
    "        plt.savefig(os.path.join(output_dir, f\"slice_{i}{suffix}.png\"), bbox_inches=\"tight\", pad_inches=0)\n",
    "        plt.clf()"
   ]
  },
  {
   "cell_type": "code",
   "execution_count": null,
   "metadata": {},
   "outputs": [
    {
     "ename": "",
     "evalue": "",
     "output_type": "error",
     "traceback": [
      "\u001b[1;31mRunning cells with '/bin/python3' requires the ipykernel package.\n",
      "\u001b[1;31mRun the following command to install 'ipykernel' into the Python environment. \n",
      "\u001b[1;31mCommand: '/bin/python3 -m pip install ipykernel -U --user --force-reinstall'"
     ]
    }
   ],
   "source": [
    "# Uncoment comands below, if no convertation was made\n",
    "\n",
    "# convert(CT_PATH_FILE, CT_SLICES_DIR)\n",
    "# convert(MAXILLA_PATH_FILE, MAXILLA_SLICES_DIR, \"_maxilla\")"
   ]
  },
  {
   "cell_type": "markdown",
   "metadata": {},
   "source": [
    "### Observations"
   ]
  },
  {
   "cell_type": "code",
   "execution_count": null,
   "metadata": {},
   "outputs": [
    {
     "ename": "",
     "evalue": "",
     "output_type": "error",
     "traceback": [
      "\u001b[1;31mRunning cells with '/bin/python3' requires the ipykernel package.\n",
      "\u001b[1;31mRun the following command to install 'ipykernel' into the Python environment. \n",
      "\u001b[1;31mCommand: '/bin/python3 -m pip install ipykernel -U --user --force-reinstall'"
     ]
    }
   ],
   "source": [
    "maxilla = cv2.imread(MAXILLA_FILE, cv2.IMREAD_GRAYSCALE)\n",
    "\n",
    "plt.imshow(maxilla)"
   ]
  },
  {
   "cell_type": "code",
   "execution_count": null,
   "metadata": {},
   "outputs": [
    {
     "ename": "",
     "evalue": "",
     "output_type": "error",
     "traceback": [
      "\u001b[1;31mRunning cells with '/bin/python3' requires the ipykernel package.\n",
      "\u001b[1;31mRun the following command to install 'ipykernel' into the Python environment. \n",
      "\u001b[1;31mCommand: '/bin/python3 -m pip install ipykernel -U --user --force-reinstall'"
     ]
    }
   ],
   "source": [
    "slice = cv2.imread(SLICE_FILE, cv2.IMREAD_GRAYSCALE)\n",
    "\n",
    "plt.imshow(slice, )"
   ]
  },
  {
   "cell_type": "markdown",
   "metadata": {},
   "source": [
    "Let's notice, that nasal septum starts from nasal vomer. Nasal vomer can be seen as a bone (aproximate coordinates are 250, 175). \n",
    "So, let's start wave algo from nasal vomer and till the end of the nose."
   ]
  },
  {
   "cell_type": "code",
   "execution_count": null,
   "metadata": {},
   "outputs": [
    {
     "ename": "",
     "evalue": "",
     "output_type": "error",
     "traceback": [
      "\u001b[1;31mRunning cells with '/bin/python3' requires the ipykernel package.\n",
      "\u001b[1;31mRun the following command to install 'ipykernel' into the Python environment. \n",
      "\u001b[1;31mCommand: '/bin/python3 -m pip install ipykernel -U --user --force-reinstall'"
     ]
    }
   ],
   "source": [
    "# select pixels, that belongs to maxilla\n",
    "\n",
    "white_pixels = []\n",
    "\n",
    "for i in range(maxilla.shape[0]):\n",
    "    for j in range(maxilla.shape[1]):\n",
    "        if maxilla[i][j] > 0:\n",
    "            white_pixels.append((i, j))\n"
   ]
  },
  {
   "cell_type": "code",
   "execution_count": null,
   "metadata": {},
   "outputs": [
    {
     "ename": "",
     "evalue": "",
     "output_type": "error",
     "traceback": [
      "\u001b[1;31mRunning cells with '/bin/python3' requires the ipykernel package.\n",
      "\u001b[1;31mRun the following command to install 'ipykernel' into the Python environment. \n",
      "\u001b[1;31mCommand: '/bin/python3 -m pip install ipykernel -U --user --force-reinstall'"
     ]
    }
   ],
   "source": [
    "# select pixels, that is not air. For this we should define what is to be considered as black color\n",
    "\n",
    "not_air = []\n",
    "\n",
    "for i in range(slice.shape[0]):\n",
    "    for j in range(slice.shape[0]):\n",
    "        if slice[i][j] > BLACK_BOUND:\n",
    "            not_air.append((i, j))\n"
   ]
  },
  {
   "cell_type": "markdown",
   "metadata": {},
   "source": [
    "#### Select start and finish point for algorithm"
   ]
  },
  {
   "cell_type": "code",
   "execution_count": null,
   "metadata": {},
   "outputs": [
    {
     "ename": "",
     "evalue": "",
     "output_type": "error",
     "traceback": [
      "\u001b[1;31mRunning cells with '/bin/python3' requires the ipykernel package.\n",
      "\u001b[1;31mRun the following command to install 'ipykernel' into the Python environment. \n",
      "\u001b[1;31mCommand: '/bin/python3 -m pip install ipykernel -U --user --force-reinstall'"
     ]
    }
   ],
   "source": [
    "start_point = min(white_pixels, key=lambda x: (abs(x[0] - 175), -x[1]))\n",
    "left_corner = min(filter(lambda x: x[0] < 175, white_pixels), key=lambda x: x[1])\n",
    "right_corner = min(filter(lambda x: x[0] > 175, white_pixels), key=lambda x: x[1])\n",
    "finish_point = min(filter(lambda x: 100 <= x[0] <= 250, not_air), key=lambda x: x[1])"
   ]
  },
  {
   "cell_type": "markdown",
   "metadata": {},
   "source": [
    "#### Dijkstra algorithm for shortest path problem"
   ]
  },
  {
   "cell_type": "code",
   "execution_count": null,
   "metadata": {},
   "outputs": [
    {
     "ename": "",
     "evalue": "",
     "output_type": "error",
     "traceback": [
      "\u001b[1;31mRunning cells with '/bin/python3' requires the ipykernel package.\n",
      "\u001b[1;31mRun the following command to install 'ipykernel' into the Python environment. \n",
      "\u001b[1;31mCommand: '/bin/python3 -m pip install ipykernel -U --user --force-reinstall'"
     ]
    }
   ],
   "source": [
    "import queue\n",
    "\n",
    "q = queue.PriorityQueue()\n",
    "\n",
    "def cost(x0, y0, x1, y1):\n",
    "    return 1 + 2 ** abs(int(slice[x0][y0]) - int(slice[x1][y1]))\n",
    "\n",
    "\n",
    "W = slice.shape[0]\n",
    "H = slice.shape[1]\n",
    "V = W * H\n",
    "INF = 10 ** 9\n",
    "\n",
    "dist = [[INF] * H for _ in range(W)]\n",
    "prev = [[-1] * H for _ in range(W)]\n",
    "\n",
    "dist[start_point[0]][start_point[1]] = 0\n",
    "\n",
    "q.put((0, start_point[0], start_point[1]))\n",
    "\n",
    "while q.qsize() > 0:\n",
    "    d, x, y = q.get()\n",
    "    if d != dist[x][y]:\n",
    "        continue\n",
    "    \n",
    "    if x == finish_point[0] and y == finish_point[1]:\n",
    "        break\n",
    "\n",
    "    for dx in range(-1, 2):\n",
    "        for dy in range(-1, 2):\n",
    "            nx = dx + x\n",
    "            ny = dy + y\n",
    "            if 0 <= nx < W and 0 <= ny < H:\n",
    "                if slice[nx][ny] > BLACK_BOUND:\n",
    "                    if dist[nx][ny] > dist[x][y] + cost(x, y, nx, ny):\n",
    "                        dist[nx][ny] = dist[x][y] + cost(x, y, nx, ny)\n",
    "                        prev[nx][ny] = (x, y)\n",
    "                        q.put((dist[nx][ny], nx, ny))\n",
    "    "
   ]
  },
  {
   "cell_type": "markdown",
   "metadata": {},
   "source": [
    "Let's notice that it is very convinient that metric should be connected with diffrence between colors. \n",
    "\n",
    "$$dist(a, b) = f(abs(c_a -c_b))$$\n",
    "\n",
    "All functions below were tested and give same result:\n",
    "1. $$f(x) = 1 + 2 ^ x$$\n",
    "3. $$f(x) = 1 + c * x$$\n",
    "3. $$f(x) = x$$"
   ]
  },
  {
   "cell_type": "markdown",
   "metadata": {},
   "source": [
    "### Answer recovery from dijkstra (coloring nasal septum)"
   ]
  },
  {
   "cell_type": "code",
   "execution_count": null,
   "metadata": {},
   "outputs": [
    {
     "ename": "",
     "evalue": "",
     "output_type": "error",
     "traceback": [
      "\u001b[1;31mRunning cells with '/bin/python3' requires the ipykernel package.\n",
      "\u001b[1;31mRun the following command to install 'ipykernel' into the Python environment. \n",
      "\u001b[1;31mCommand: '/bin/python3 -m pip install ipykernel -U --user --force-reinstall'"
     ]
    }
   ],
   "source": [
    "x, y = finish_point\n",
    "\n",
    "while x != start_point[0] or y != start_point[1]:\n",
    "    slice[x][y] = 0\n",
    "    \n",
    "    i = x - 1\n",
    "    while slice[i][y] > BLACK_BOUND and i > left_corner[0]:\n",
    "        slice[i][y] = 0\n",
    "        i -= 1\n",
    "    \n",
    "    i = x + 1\n",
    "    while slice[i][y] > BLACK_BOUND and i < right_corner[0]:\n",
    "        slice[i][y] = 0\n",
    "        i += 1\n",
    "\n",
    "    x, y = prev[x][y]\n",
    "\n",
    "plt.imshow(slice)"
   ]
  },
  {
   "cell_type": "markdown",
   "metadata": {},
   "source": [
    "### Process range of slices with the same algo as above"
   ]
  },
  {
   "cell_type": "code",
   "execution_count": null,
   "metadata": {},
   "outputs": [
    {
     "ename": "",
     "evalue": "",
     "output_type": "error",
     "traceback": [
      "\u001b[1;31mRunning cells with '/bin/python3' requires the ipykernel package.\n",
      "\u001b[1;31mRun the following command to install 'ipykernel' into the Python environment. \n",
      "\u001b[1;31mCommand: '/bin/python3 -m pip install ipykernel -U --user --force-reinstall'"
     ]
    }
   ],
   "source": [
    "FROM = 154\n",
    "TO = 175 # exclusive\n",
    "\n",
    "array = np.zeros(shape=(W, H, TO - FROM))\n",
    "\n",
    "for layer in range(FROM, TO):\n",
    "    maxilla_file =  os.path.join(\"output\", \"slices\",  f\"slice_{layer}_maxilla.png\")\n",
    "    maxilla = cv2.imread(maxilla_file, cv2.IMREAD_GRAYSCALE)\n",
    "    slice_file = os.path.join(\"output\", \"slices\", f\"slice_{layer}.png\")\n",
    "    slice = cv2.imread(slice_file, cv2.IMREAD_GRAYSCALE)\n",
    "    \n",
    "    white_pixels = []\n",
    "\n",
    "    for i in range(maxilla.shape[0]):\n",
    "        for j in range(maxilla.shape[1]):\n",
    "            if maxilla[i][j] > 0:\n",
    "                white_pixels.append((i, j))\n",
    "\n",
    "    \n",
    "    not_air = []\n",
    "    BLACK_BOUND = 130\n",
    "\n",
    "    for i in range(slice.shape[0]):\n",
    "        for j in range(slice.shape[0]):\n",
    "            if slice[i][j] > BLACK_BOUND:\n",
    "                not_air.append((i, j))\n",
    "\n",
    "    \n",
    "    start_point = min(white_pixels, key=lambda x: (abs(x[0] - 175), -x[1]))\n",
    "    left_corner = min(filter(lambda x: x[0] < 175, white_pixels), key=lambda x: x[1])\n",
    "    right_corner = min(filter(lambda x: x[0] > 175, white_pixels), key=lambda x: x[1])\n",
    "    finish_point = min(filter(lambda x: 100 <= x[0] <= 250, not_air), key=lambda x: x[1])\n",
    "    \n",
    "    def cost(x0, y0, x1, y1):\n",
    "        return 1 + 2 **(int(slice[x0][y0]) - int(slice[x1][y1]))\n",
    "\n",
    "    dist = [[INF] * H for _ in range(W)]\n",
    "    prev = [[-1] * H for _ in range(W)]\n",
    "\n",
    "    dist[start_point[0]][start_point[1]] = 0\n",
    "\n",
    "    q.put((0, start_point[0], start_point[1]))\n",
    "\n",
    "    while q.qsize() > 0:\n",
    "        d, x, y = q.get()\n",
    "        if d != dist[x][y]:\n",
    "            continue\n",
    "        \n",
    "        if x == finish_point[0] and y == finish_point[1]:\n",
    "            break\n",
    "\n",
    "        for dx in range(-1, 2):\n",
    "            for dy in range(-1, 2):\n",
    "                nx = dx + x\n",
    "                ny = dy + y\n",
    "                if 0 <= nx < W and 0 <= ny < H:\n",
    "                    if slice[nx][ny] > BLACK_BOUND:\n",
    "                        if dist[nx][ny] > dist[x][y] + cost(x, y, nx, ny):\n",
    "                            dist[nx][ny] = dist[x][y] + cost(x, y, nx, ny)\n",
    "                            prev[nx][ny] = (x, y)\n",
    "                            q.put((dist[nx][ny], nx, ny))\n",
    "    x, y = finish_point\n",
    "\n",
    "    while x != start_point[0] or y != start_point[1]:\n",
    "        array[x][y][layer - FROM] = 1\n",
    "        slice[x][y] = 0\n",
    "        \n",
    "        i = x - 1\n",
    "        while slice[i][y] > BLACK_BOUND and i > left_corner[0]:\n",
    "            array[i][y][layer - FROM] = 1\n",
    "            slice[i][y] = 0\n",
    "            i -= 1\n",
    "        \n",
    "        i = x + 1\n",
    "        while slice[i][y] > BLACK_BOUND and i < right_corner[0]:\n",
    "            array[i][y][layer - FROM] = 1\n",
    "            slice[i][y] = 0\n",
    "            i += 1\n",
    "\n",
    "        x, y = prev[x][y]"
   ]
  },
  {
   "cell_type": "markdown",
   "metadata": {},
   "source": [
    "### Import model of nasal septum to vtk"
   ]
  },
  {
   "cell_type": "code",
   "execution_count": null,
   "metadata": {},
   "outputs": [
    {
     "ename": "",
     "evalue": "",
     "output_type": "error",
     "traceback": [
      "\u001b[1;31mRunning cells with '/bin/python3' requires the ipykernel package.\n",
      "\u001b[1;31mRun the following command to install 'ipykernel' into the Python environment. \n",
      "\u001b[1;31mCommand: '/bin/python3 -m pip install ipykernel -U --user --force-reinstall'"
     ]
    }
   ],
   "source": [
    "dims = array.shape\n",
    "imageData = vtk.vtkImageData()\n",
    "imageData.SetDimensions(dims[0], dims[1], dims[2])\n",
    "\n",
    "scalars = vtk.vtkUnsignedCharArray()\n",
    "scalars.SetNumberOfComponents(1)\n",
    "scalars.SetName(\"scalars\")\n",
    "for k in range(dims[2]):\n",
    "    for j in range(dims[1]):\n",
    "        for i in range(dims[0]):\n",
    "            value = array[i,j,k]\n",
    "            scalars.InsertNextTuple1(value)\n",
    "imageData.GetPointData().SetScalars(scalars)\n",
    "\n",
    "mc = vtk.vtkMarchingCubes()\n",
    "mc.SetInputData(imageData)\n",
    "mc.ComputeNormalsOn()\n",
    "mc.SetValue(0, 0.5)\n",
    "\n",
    "mapper = vtk.vtkPolyDataMapper()\n",
    "mapper.SetInputConnection(mc.GetOutputPort())\n",
    "\n",
    "actor = vtk.vtkActor()\n",
    "actor.SetMapper(mapper)\n",
    "\n",
    "renderer = vtk.vtkRenderer()\n",
    "renderer.AddActor(actor)\n",
    "\n",
    "renderWindow = vtk.vtkRenderWindow()\n",
    "renderWindow.AddRenderer(renderer)\n",
    "\n",
    "writer = vtk.vtkPolyDataWriter()\n",
    "writer.SetFileName(\"output.vtk\")\n",
    "writer.SetInputConnection(mc.GetOutputPort())\n",
    "writer.Write()"
   ]
  }
 ],
 "metadata": {
  "kernelspec": {
   "display_name": "base",
   "language": "python",
   "name": "python3"
  },
  "language_info": {
   "codemirror_mode": {
    "name": "ipython",
    "version": 3
   },
   "file_extension": ".py",
   "mimetype": "text/x-python",
   "name": "python",
   "nbconvert_exporter": "python",
   "pygments_lexer": "ipython3",
   "version": "3.11.2"
  }
 },
 "nbformat": 4,
 "nbformat_minor": 2
}
